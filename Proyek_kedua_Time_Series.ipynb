{
  "nbformat": 4,
  "nbformat_minor": 0,
  "metadata": {
    "colab": {
      "name": "Proyek kedua : Time Series.ipynb",
      "provenance": []
    },
    "kernelspec": {
      "name": "python3",
      "display_name": "Python 3"
    },
    "language_info": {
      "name": "python"
    }
  },
  "cells": [
    {
      "cell_type": "markdown",
      "metadata": {
        "id": "oPSF1xnAZ3-m"
      },
      "source": [
        "#####Mamta Anisa Bella#####\n",
        "bellagofarsah@gmail.com"
      ]
    },
    {
      "cell_type": "code",
      "metadata": {
        "id": "HrRgyfp9K9uf"
      },
      "source": [
        "import numpy as np\n",
        "import pandas as pd\n",
        "from keras.layers import Dense, LSTM\n",
        "import matplotlib.pyplot as plt\n",
        "import tensorflow as tf"
      ],
      "execution_count": 1,
      "outputs": []
    },
    {
      "cell_type": "code",
      "metadata": {
        "colab": {
          "base_uri": "https://localhost:8080/",
          "height": 204
        },
        "id": "ea8neytlLG5D",
        "outputId": "b8506871-6537-46ff-a99f-112e9ced6c6f"
      },
      "source": [
        "df = pd.read_csv('/content/drive/MyDrive/ANTM.JK.csv')\n",
        "df.head()"
      ],
      "execution_count": 2,
      "outputs": [
        {
          "output_type": "execute_result",
          "data": {
            "text/html": [
              "<div>\n",
              "<style scoped>\n",
              "    .dataframe tbody tr th:only-of-type {\n",
              "        vertical-align: middle;\n",
              "    }\n",
              "\n",
              "    .dataframe tbody tr th {\n",
              "        vertical-align: top;\n",
              "    }\n",
              "\n",
              "    .dataframe thead th {\n",
              "        text-align: right;\n",
              "    }\n",
              "</style>\n",
              "<table border=\"1\" class=\"dataframe\">\n",
              "  <thead>\n",
              "    <tr style=\"text-align: right;\">\n",
              "      <th></th>\n",
              "      <th>Date</th>\n",
              "      <th>Open</th>\n",
              "      <th>High</th>\n",
              "      <th>Low</th>\n",
              "      <th>Close</th>\n",
              "      <th>Adj Close</th>\n",
              "      <th>Volume</th>\n",
              "    </tr>\n",
              "  </thead>\n",
              "  <tbody>\n",
              "    <tr>\n",
              "      <th>0</th>\n",
              "      <td>2005-09-29</td>\n",
              "      <td>432.588074</td>\n",
              "      <td>436.787964</td>\n",
              "      <td>407.388763</td>\n",
              "      <td>432.588074</td>\n",
              "      <td>304.904572</td>\n",
              "      <td>76180670.0</td>\n",
              "    </tr>\n",
              "    <tr>\n",
              "      <th>1</th>\n",
              "      <td>2005-09-30</td>\n",
              "      <td>457.787384</td>\n",
              "      <td>457.787384</td>\n",
              "      <td>432.588074</td>\n",
              "      <td>457.787384</td>\n",
              "      <td>322.666016</td>\n",
              "      <td>105493978.0</td>\n",
              "    </tr>\n",
              "    <tr>\n",
              "      <th>2</th>\n",
              "      <td>2005-10-03</td>\n",
              "      <td>470.387024</td>\n",
              "      <td>474.586914</td>\n",
              "      <td>440.987854</td>\n",
              "      <td>470.387024</td>\n",
              "      <td>331.546692</td>\n",
              "      <td>59712955.0</td>\n",
              "    </tr>\n",
              "    <tr>\n",
              "      <th>3</th>\n",
              "      <td>2005-10-04</td>\n",
              "      <td>474.586914</td>\n",
              "      <td>482.986694</td>\n",
              "      <td>466.187164</td>\n",
              "      <td>474.586914</td>\n",
              "      <td>334.506927</td>\n",
              "      <td>56236668.0</td>\n",
              "    </tr>\n",
              "    <tr>\n",
              "      <th>4</th>\n",
              "      <td>2005-10-05</td>\n",
              "      <td>482.986694</td>\n",
              "      <td>482.986694</td>\n",
              "      <td>466.187164</td>\n",
              "      <td>482.986694</td>\n",
              "      <td>340.427429</td>\n",
              "      <td>31319315.0</td>\n",
              "    </tr>\n",
              "  </tbody>\n",
              "</table>\n",
              "</div>"
            ],
            "text/plain": [
              "         Date        Open        High  ...       Close   Adj Close       Volume\n",
              "0  2005-09-29  432.588074  436.787964  ...  432.588074  304.904572   76180670.0\n",
              "1  2005-09-30  457.787384  457.787384  ...  457.787384  322.666016  105493978.0\n",
              "2  2005-10-03  470.387024  474.586914  ...  470.387024  331.546692   59712955.0\n",
              "3  2005-10-04  474.586914  482.986694  ...  474.586914  334.506927   56236668.0\n",
              "4  2005-10-05  482.986694  482.986694  ...  482.986694  340.427429   31319315.0\n",
              "\n",
              "[5 rows x 7 columns]"
            ]
          },
          "metadata": {
            "tags": []
          },
          "execution_count": 2
        }
      ]
    },
    {
      "cell_type": "code",
      "metadata": {
        "colab": {
          "base_uri": "https://localhost:8080/",
          "height": 341
        },
        "id": "JVXp3lTfPacD",
        "outputId": "776d7586-b55d-4ceb-89ae-264610ea074c"
      },
      "source": [
        "#membuat grafik kolom close\n",
        "dates = df['Date'].values\n",
        "volume = df['Close'].values\n",
        " \n",
        " \n",
        "plt.figure(figsize=(15,5))\n",
        "plt.plot(dates, volume)\n",
        "plt.title('Close ANTM',\n",
        "          fontsize=20);"
      ],
      "execution_count": 3,
      "outputs": [
        {
          "output_type": "display_data",
          "data": {
            "image/png": "[encoded data removed]",
            "text/plain": [
              "<Figure size 1080x360 with 1 Axes>"
            ]
          },
          "metadata": {
            "tags": [],
            "needs_background": "light"
          }
        }
      ]
    },
    {
      "cell_type": "code",
      "metadata": {
        "id": "TPrU1h4oLSmu"
      },
      "source": [
        "#mengubah data kolom close menjadi array dan pembagian data training dan testing\n",
        "data = df.filter(['Close'])\n",
        "dataset = data.values\n",
        "training_data_len = np.ceil( len(dataset) *.8)"
      ],
      "execution_count": 4,
      "outputs": []
    },
    {
      "cell_type": "code",
      "metadata": {
        "id": "27jwtJyTMQzG"
      },
      "source": [
        "#membuat skala data\n",
        "from sklearn.preprocessing import MinMaxScaler\n",
        "scaler = MinMaxScaler(feature_range=(0, 1)) \n",
        "scaled_data = scaler.fit_transform(dataset)"
      ],
      "execution_count": 5,
      "outputs": []
    },
    {
      "cell_type": "code",
      "metadata": {
        "colab": {
          "base_uri": "https://localhost:8080/"
        },
        "id": "zIrtVSpfMcqG",
        "outputId": "de256fbc-eeb1-4a26-8c7d-a23f2ee1f35e"
      },
      "source": [
        "#membuat skala data training\n",
        "train_data = scaled_data[0:int(training_data_len), :]\n",
        "x_train = []\n",
        "y_train = []\n",
        "\n",
        "for i in range(60, len(train_data)):\n",
        "    x_train.append(train_data[i-60:i, 0])\n",
        "    y_train.append(train_data[i, 0])\n",
        "    if i<= 61:\n",
        "        print(x_train)\n",
        "        print(y_train)\n",
        "        print()"
      ],
      "execution_count": 7,
      "outputs": [
        {
          "output_type": "stream",
          "text": [
            "[array([0.03681223, 0.04318393, 0.04636977, 0.04743172, 0.04955562,\n",
            "       0.04530783, 0.04636977, 0.04530783, 0.04530783, 0.04636977,\n",
            "       0.04743172, 0.04743172, 0.04743172, 0.04636977, 0.04424588,\n",
            "       0.04424588, 0.04424588, 0.04106002, 0.04106002, 0.04212197,\n",
            "       0.03893613, 0.03575028, 0.03681223, 0.03575028, 0.03575028,\n",
            "       0.03575028, 0.03575028, 0.03362639, 0.03150249, 0.03150249,\n",
            "       0.02937858, 0.03044053, 0.02937858, 0.03044053, 0.03362639,\n",
            "       0.03787418, 0.03787418, 0.03787418, 0.03575028, 0.03681223,\n",
            "       0.04318393, 0.04849367, 0.05061757, 0.05167951, 0.05061757,\n",
            "       0.05167951, 0.04955562, 0.04955562, 0.06017511, 0.08141409,\n",
            "       0.08141409, 0.0707946 , 0.06548485, 0.06336096, 0.07185655,\n",
            "       0.07185655, 0.06760875, 0.0665468 , 0.06973265, 0.06973265])]\n",
            "[0.07398044966991053]\n",
            "\n",
            "[array([0.03681223, 0.04318393, 0.04636977, 0.04743172, 0.04955562,\n",
            "       0.04530783, 0.04636977, 0.04530783, 0.04530783, 0.04636977,\n",
            "       0.04743172, 0.04743172, 0.04743172, 0.04636977, 0.04424588,\n",
            "       0.04424588, 0.04424588, 0.04106002, 0.04106002, 0.04212197,\n",
            "       0.03893613, 0.03575028, 0.03681223, 0.03575028, 0.03575028,\n",
            "       0.03575028, 0.03575028, 0.03362639, 0.03150249, 0.03150249,\n",
            "       0.02937858, 0.03044053, 0.02937858, 0.03044053, 0.03362639,\n",
            "       0.03787418, 0.03787418, 0.03787418, 0.03575028, 0.03681223,\n",
            "       0.04318393, 0.04849367, 0.05061757, 0.05167951, 0.05061757,\n",
            "       0.05167951, 0.04955562, 0.04955562, 0.06017511, 0.08141409,\n",
            "       0.08141409, 0.0707946 , 0.06548485, 0.06336096, 0.07185655,\n",
            "       0.07185655, 0.06760875, 0.0665468 , 0.06973265, 0.06973265]), array([0.04318393, 0.04636977, 0.04743172, 0.04955562, 0.04530783,\n",
            "       0.04636977, 0.04530783, 0.04530783, 0.04636977, 0.04743172,\n",
            "       0.04743172, 0.04743172, 0.04636977, 0.04424588, 0.04424588,\n",
            "       0.04424588, 0.04106002, 0.04106002, 0.04212197, 0.03893613,\n",
            "       0.03575028, 0.03681223, 0.03575028, 0.03575028, 0.03575028,\n",
            "       0.03575028, 0.03362639, 0.03150249, 0.03150249, 0.02937858,\n",
            "       0.03044053, 0.02937858, 0.03044053, 0.03362639, 0.03787418,\n",
            "       0.03787418, 0.03787418, 0.03575028, 0.03681223, 0.04318393,\n",
            "       0.04849367, 0.05061757, 0.05167951, 0.05061757, 0.05167951,\n",
            "       0.04955562, 0.04955562, 0.06017511, 0.08141409, 0.08141409,\n",
            "       0.0707946 , 0.06548485, 0.06336096, 0.07185655, 0.07185655,\n",
            "       0.06760875, 0.0665468 , 0.06973265, 0.06973265, 0.07398045])]\n",
            "[0.07398044966991053, 0.07822823619644399]\n",
            "\n"
          ],
          "name": "stdout"
        }
      ]
    },
    {
      "cell_type": "code",
      "metadata": {
        "id": "iOpQL0dzNO1x"
      },
      "source": [
        "#mengubah x_train dan y_train menjadi numpy arrays\n",
        "x_train, y_train = np.array(x_train), np.array(y_train)"
      ],
      "execution_count": 8,
      "outputs": []
    },
    {
      "cell_type": "code",
      "metadata": {
        "id": "LllZUooZNZBI"
      },
      "source": [
        "#melakukan reshape data\n",
        "x_train = np.reshape(x_train, (x_train.shape[0],x_train.shape[1],1))"
      ],
      "execution_count": 9,
      "outputs": []
    },
    {
      "cell_type": "code",
      "metadata": {
        "id": "fIB3Hrw9Nb1Q"
      },
      "source": [
        "#membuat model sequential\n",
        "model = tf.keras.models.Sequential([\n",
        "  tf.keras.layers.LSTM(60, return_sequences=True),\n",
        "  tf.keras.layers.LSTM(60),\n",
        "  tf.keras.layers.Dense(30, activation=\"relu\"),\n",
        "  tf.keras.layers.Dense(10, activation=\"relu\"),\n",
        "  tf.keras.layers.Dense(1),\n",
        "])"
      ],
      "execution_count": 10,
      "outputs": []
    },
    {
      "cell_type": "code",
      "metadata": {
        "colab": {
          "base_uri": "https://localhost:8080/"
        },
        "id": "9lVdvmupN_Ym",
        "outputId": "417c1fe0-8abf-48a9-b37f-3a3a75ec56ea"
      },
      "source": [
        "#menggunakan learning rate pada optimizer\n",
        "optimizer = tf.keras.optimizers.SGD(lr=1.0000e-04, momentum=0.9)\n",
        "model.compile(loss=tf.keras.losses.Huber(), optimizer=optimizer, metrics=['mae'])"
      ],
      "execution_count": 11,
      "outputs": [
        {
          "output_type": "stream",
          "text": [
            "/usr/local/lib/python3.7/dist-packages/tensorflow/python/keras/optimizer_v2/optimizer_v2.py:375: UserWarning: The `lr` argument is deprecated, use `learning_rate` instead.\n",
            "  \"The `lr` argument is deprecated, use `learning_rate` instead.\")\n"
          ],
          "name": "stderr"
        }
      ]
    },
    {
      "cell_type": "code",
      "metadata": {
        "colab": {
          "base_uri": "https://localhost:8080/"
        },
        "id": "OSJN10z6O6A0",
        "outputId": "919c3cbe-e446-435b-caac-1829d134890e"
      },
      "source": [
        "#melatih model\n",
        "model.fit(x_train, y_train, batch_size=1, epochs=15)"
      ],
      "execution_count": 12,
      "outputs": [
        {
          "output_type": "stream",
          "text": [
            "Epoch 1/15\n",
            "2987/2987 [==============================] - 76s 24ms/step - loss: 0.0110 - mae: 0.1119\n",
            "Epoch 2/15\n",
            "2987/2987 [==============================] - 72s 24ms/step - loss: 0.0049 - mae: 0.0756\n",
            "Epoch 3/15\n",
            "2987/2987 [==============================] - 72s 24ms/step - loss: 0.0015 - mae: 0.0361\n",
            "Epoch 4/15\n",
            "2987/2987 [==============================] - 72s 24ms/step - loss: 7.7460e-04 - mae: 0.0238\n",
            "Epoch 5/15\n",
            "2987/2987 [==============================] - 72s 24ms/step - loss: 6.5742e-04 - mae: 0.0222\n",
            "Epoch 6/15\n",
            "2987/2987 [==============================] - 74s 25ms/step - loss: 6.2654e-04 - mae: 0.0220\n",
            "Epoch 7/15\n",
            "2987/2987 [==============================] - 72s 24ms/step - loss: 6.1487e-04 - mae: 0.0218\n",
            "Epoch 8/15\n",
            "2987/2987 [==============================] - 72s 24ms/step - loss: 6.0748e-04 - mae: 0.0216\n",
            "Epoch 9/15\n",
            "2987/2987 [==============================] - 72s 24ms/step - loss: 5.9781e-04 - mae: 0.0215\n",
            "Epoch 10/15\n",
            "2987/2987 [==============================] - 72s 24ms/step - loss: 5.9039e-04 - mae: 0.0214\n",
            "Epoch 11/15\n",
            "2987/2987 [==============================] - 73s 24ms/step - loss: 5.8447e-04 - mae: 0.0212\n",
            "Epoch 12/15\n",
            "2987/2987 [==============================] - 72s 24ms/step - loss: 5.7831e-04 - mae: 0.0210\n",
            "Epoch 13/15\n",
            "2987/2987 [==============================] - 72s 24ms/step - loss: 5.7323e-04 - mae: 0.0211\n",
            "Epoch 14/15\n",
            "2987/2987 [==============================] - 73s 25ms/step - loss: 5.7132e-04 - mae: 0.0210\n",
            "Epoch 15/15\n",
            "2987/2987 [==============================] - 73s 24ms/step - loss: 5.6347e-04 - mae: 0.0208\n"
          ],
          "name": "stdout"
        },
        {
          "output_type": "execute_result",
          "data": {
            "text/plain": [
              "<tensorflow.python.keras.callbacks.History at 0x7fb57aa91f90>"
            ]
          },
          "metadata": {
            "tags": []
          },
          "execution_count": 12
        }
      ]
    }
  ]
}